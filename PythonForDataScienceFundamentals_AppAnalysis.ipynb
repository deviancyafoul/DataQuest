{
 "cells": [
  {
   "cell_type": "markdown",
   "metadata": {},
   "source": [
    "# In-App Ad Analysis\n",
    "This is an analysis to see what types of apps attract the most users. \n",
    "The goal of this project is to determine which free apps currently available attract the most users so developers can know which apps to develop to place advertisements in to get more revenue.\n",
    "The analysis will be performed on apps that are found in both of the Google and Apple app stores.\n",
    "\n",
    "The Google data set can be found here: [data set](https://www.kaggle.com/lava18/google-play-store-apps/home)\n",
    "\n",
    "The Apple data set can be found here: [data set](https://www.kaggle.com/ramamet4/app-store-apple-data-set-10k-apps/home#AppleStore.csv)\n",
    "\n",
    "Here we open the data sets and explore the first few rows to see what they contain:"
   ]
  },
  {
   "cell_type": "code",
   "execution_count": 1,
   "metadata": {},
   "outputs": [],
   "source": [
    "### Opening Apple Dataset ###       \n",
    "opened_file = open('AppleStore.csv')\n",
    "from csv import reader\n",
    "read_file = reader(opened_file)\n",
    "data = list(read_file)  \n",
    "apple_header = data[0]\n",
    "apple_apps = data[1:]\n",
    "\n",
    "### Opening Android Dataset ###\n",
    "opened_file = open('googleplaystore.csv')\n",
    "from csv import reader\n",
    "read_file = reader(opened_file)\n",
    "data = list(read_file)  \n",
    "android_header = data[0]\n",
    "android_apps = data[1:]"
   ]
  },
  {
   "cell_type": "markdown",
   "metadata": {},
   "source": [
    "Now that the datasets are open, we can create a function that explores the first few rows to see the header and to get some initial observations:"
   ]
  },
  {
   "cell_type": "code",
   "execution_count": 2,
   "metadata": {},
   "outputs": [
    {
     "name": "stdout",
     "output_type": "stream",
     "text": [
      "['', 'id', 'track_name', 'size_bytes', 'currency', 'price', 'rating_count_tot', 'rating_count_ver', 'user_rating', 'user_rating_ver', 'ver', 'cont_rating', 'prime_genre', 'sup_devices.num', 'ipadSc_urls.num', 'lang.num', 'vpp_lic']\n",
      "['1', '281656475', 'PAC-MAN Premium', '100788224', 'USD', '3.99', '21292', '26', '4', '4.5', '6.3.5', '4+', 'Games', '38', '5', '10', '1']\n",
      "\n",
      "\n",
      "['2', '281796108', 'Evernote - stay organized', '158578688', 'USD', '0', '161065', '26', '4', '3.5', '8.2.2', '4+', 'Productivity', '37', '5', '23', '1']\n",
      "\n",
      "\n",
      "['3', '281940292', 'WeatherBug - Local Weather, Radar, Maps, Alerts', '100524032', 'USD', '0', '188583', '2822', '3.5', '4.5', '5.0.0', '4+', 'Weather', '37', '5', '3', '1']\n",
      "\n",
      "\n",
      "Number of rows: 7197\n",
      "Number of columns: 17\n",
      "None\n",
      "\n",
      "\n"
     ]
    }
   ],
   "source": [
    "def explore_data(dataset, start, end, rows_and_columns=False):\n",
    "    dataset_slice = dataset[start:end]    \n",
    "    for row in dataset_slice:\n",
    "        print(row)\n",
    "        print('\\n') # adds a new (empty) line between rows\n",
    "        \n",
    "    if rows_and_columns:\n",
    "        print('Number of rows:', len(dataset))\n",
    "        print('Number of columns:', len(dataset[0]))\n",
    "\n",
    "print(apple_header)\n",
    "print(explore_data(apple_apps,0,3,True))\n",
    "print('\\n')"
   ]
  },
  {
   "cell_type": "markdown",
   "metadata": {},
   "source": [
    "From what we can see in the Apple dataset, there are 7197 rows and 17 columns. For the purposes of our analysis we will focus on track_name, price, rating_count_tot, rating_count_ver, and prime_genre."
   ]
  },
  {
   "cell_type": "code",
   "execution_count": 3,
   "metadata": {},
   "outputs": [
    {
     "name": "stdout",
     "output_type": "stream",
     "text": [
      "['App', 'Category', 'Rating', 'Reviews', 'Size', 'Installs', 'Type', 'Price', 'Content Rating', 'Genres', 'Last Updated', 'Current Ver', 'Android Ver']\n",
      "['Photo Editor & Candy Camera & Grid & ScrapBook', 'ART_AND_DESIGN', '4.1', '159', '19M', '10,000+', 'Free', '0', 'Everyone', 'Art & Design', 'January 7, 2018', '1.0.0', '4.0.3 and up']\n",
      "\n",
      "\n",
      "['Coloring book moana', 'ART_AND_DESIGN', '3.9', '967', '14M', '500,000+', 'Free', '0', 'Everyone', 'Art & Design;Pretend Play', 'January 15, 2018', '2.0.0', '4.0.3 and up']\n",
      "\n",
      "\n",
      "['U Launcher Lite – FREE Live Cool Themes, Hide Apps', 'ART_AND_DESIGN', '4.7', '87510', '8.7M', '5,000,000+', 'Free', '0', 'Everyone', 'Art & Design', 'August 1, 2018', '1.2.4', '4.0.3 and up']\n",
      "\n",
      "\n",
      "Number of rows: 10841\n",
      "Number of columns: 13\n",
      "None\n"
     ]
    }
   ],
   "source": [
    "print(android_header)\n",
    "print(explore_data(android_apps,0,3,True))"
   ]
  },
  {
   "cell_type": "markdown",
   "metadata": {},
   "source": [
    "From what we can see in the Android dataset, there are 10841 rows and 13 columns. For the purposes of our analysis we will focus on App, Category, Installs, Reviews, Type, Price, Content Rating, and Genre. \n",
    "\n",
    "## Cleaning the data\n",
    "\n",
    "For the Android data set, there is a [discussion forum](https://www.kaggle.com/lava18/google-play-store-apps/discussion) where other people who are exploring the data set can ask questions or address any errors with the data. There is a [post](https://www.kaggle.com/lava18/google-play-store-apps/discussion/66015) in the discussion forum that points out that there is an incorrect line that is causing issues with column alignment. The row has been identified as row 10472.\n",
    "\n",
    "We will take a further look at this line to see if it does need to be removed from the data set."
   ]
  },
  {
   "cell_type": "code",
   "execution_count": 4,
   "metadata": {},
   "outputs": [
    {
     "name": "stdout",
     "output_type": "stream",
     "text": [
      "['Life Made WI-Fi Touchscreen Photo Frame', '1.9', '19', '3.0M', '1,000+', 'Free', '0', 'Everyone', '', 'February 11, 2018', '1.0.19', '4.0 and up']\n",
      "Number of columns for 10472: 12\n"
     ]
    }
   ],
   "source": [
    "print(android_apps[10472])\n",
    "print('Number of columns for 10472:', len(android_apps[10472]))"
   ]
  },
  {
   "cell_type": "markdown",
   "metadata": {},
   "source": [
    "As we can see here, there are only 12 columns for this particular row, which is one shorter than the rest of the data that has 13 columns.\n",
    "We can also see that this particular row is missing a Category column.\n",
    "Since this row is indeed invalid, we will go ahead and delete it from this dataset."
   ]
  },
  {
   "cell_type": "code",
   "execution_count": 5,
   "metadata": {},
   "outputs": [
    {
     "name": "stdout",
     "output_type": "stream",
     "text": [
      "10841\n",
      "10840\n"
     ]
    }
   ],
   "source": [
    "print(len(android_apps))\n",
    "### Do not run this line of code more than once. ###\n",
    "del android_apps[10472]\n",
    "\n",
    "### Validating deletion of data has been done. ###\n",
    "\n",
    "print(len(android_apps))"
   ]
  },
  {
   "cell_type": "markdown",
   "metadata": {},
   "source": [
    "After reviewing the [discussion forum](https://www.kaggle.com/ramamet4/app-store-apple-data-set-10k-apps/discussion) for the Apple dataset, there were no data issues identified within the data set."
   ]
  },
  {
   "cell_type": "markdown",
   "metadata": {},
   "source": [
    "## Deleting duplicate data\n",
    "\n",
    "In the Android App dataset discussion forum, there is a [post](https://www.kaggle.com/lava18/google-play-store-apps/discussion/67894#latest-416829) regarding duplicate data contained within the dataset.\n",
    "\n",
    "We will go ahead and identify those apps that are duplicates."
   ]
  },
  {
   "cell_type": "code",
   "execution_count": 6,
   "metadata": {},
   "outputs": [
    {
     "name": "stdout",
     "output_type": "stream",
     "text": [
      "Number of duplicate apps: 1181\n",
      "Example duplicated apps: ['Quick PDF Scanner + OCR FREE', 'Box', 'Google My Business', 'ZOOM Cloud Meetings', 'join.me - Simple Meetings', 'Box', 'Zenefits', 'Google Ads', 'Google My Business', 'Slack', 'FreshBooks Classic', 'Insightly CRM', 'QuickBooks Accounting: Invoicing & Expenses', 'HipChat - Chat Built for Teams', 'Xero Accounting Software']\n"
     ]
    }
   ],
   "source": [
    "duplicate_apps = []\n",
    "unique_apps    = []\n",
    "\n",
    "for row in android_apps:\n",
    "    if row[0] in unique_apps:\n",
    "        duplicate_apps.append(row[0])\n",
    "    else:\n",
    "        unique_apps.append(row[0])\n",
    "        \n",
    "print('Number of duplicate apps:', len(duplicate_apps))\n",
    "print('Example duplicated apps:', duplicate_apps[:15])"
   ]
  },
  {
   "cell_type": "markdown",
   "metadata": {},
   "source": [
    "As we can see, there are 1181 apps that are duplicated in the Android dataset.\n",
    "\n",
    "Let's take a closer look to see if there is a unique value among the duplicates."
   ]
  },
  {
   "cell_type": "code",
   "execution_count": 7,
   "metadata": {},
   "outputs": [
    {
     "name": "stdout",
     "output_type": "stream",
     "text": [
      "['Quick PDF Scanner + OCR FREE', 'BUSINESS', '4.2', '80805', 'Varies with device', '5,000,000+', 'Free', '0', 'Everyone', 'Business', 'February 26, 2018', 'Varies with device', '4.0.3 and up']\n",
      "['Quick PDF Scanner + OCR FREE', 'BUSINESS', '4.2', '80805', 'Varies with device', '5,000,000+', 'Free', '0', 'Everyone', 'Business', 'February 26, 2018', 'Varies with device', '4.0.3 and up']\n",
      "['Quick PDF Scanner + OCR FREE', 'BUSINESS', '4.2', '80804', 'Varies with device', '5,000,000+', 'Free', '0', 'Everyone', 'Business', 'February 26, 2018', 'Varies with device', '4.0.3 and up']\n"
     ]
    }
   ],
   "source": [
    "for row in android_apps:\n",
    "    if row[0] == 'Quick PDF Scanner + OCR FREE':\n",
    "        print(row)"
   ]
  },
  {
   "cell_type": "markdown",
   "metadata": {},
   "source": [
    "Looking at the columns from the duplicates, the only difference between these rows is the rating column.\n",
    "\n",
    "For the purposes of the analysts, we will focus only on those apps with the highest rating and then delete the other rows.\n",
    "\n",
    "To do this, we will create a dictionary to store the app name and the highest rating.\n",
    "\n",
    "After that, we will create two new lists to store the dataset without duplicate values and another one to determine if the line has already been added or not because as we saw in our above example, there are lines with duplicate ratings and do not need to be added in twice.\n",
    "\n",
    "Once the dataset has been cleaned of duplicates, then we will check to see if the data set is the correct length."
   ]
  },
  {
   "cell_type": "code",
   "execution_count": 8,
   "metadata": {},
   "outputs": [
    {
     "name": "stdout",
     "output_type": "stream",
     "text": [
      "Length of data set before duplicates are removed: 10840\n",
      "Expected length after duplicates are removed: 9659\n",
      "Length of new android_clean dataset: 9659\n"
     ]
    }
   ],
   "source": [
    "### Creating a dictionary to store the app name and the highest rating value ###\n",
    "\n",
    "reviews_max = {}\n",
    "\n",
    "for rows in android_apps:\n",
    "    name = rows[0]\n",
    "    n_reviews = float(rows[3])\n",
    "    if name in reviews_max and reviews_max[name] < n_reviews:\n",
    "        reviews_max[name] = n_reviews\n",
    "    elif name not in reviews_max:\n",
    "        reviews_max[name] = n_reviews\n",
    "\n",
    "### Creating a new dataset with the cleaned data ###        \n",
    "android_clean = []\n",
    "already_added = []\n",
    "\n",
    "for rows in android_apps:\n",
    "    name = rows[0]\n",
    "    n_reviews = float(rows[3])\n",
    "    if n_reviews == reviews_max[name] and name not in already_added:\n",
    "        android_clean.append(rows)\n",
    "        already_added.append(rows[0])\n",
    "        \n",
    "print('Length of data set before duplicates are removed:', len(android_apps))\n",
    "print('Expected length after duplicates are removed:', len(android_apps) - 1181)\n",
    "print('Length of new android_clean dataset:',len(android_clean))"
   ]
  },
  {
   "cell_type": "markdown",
   "metadata": {},
   "source": [
    "## Removing Non-English Apps\n",
    "\n",
    "Both of the datasets contain apps that are geared more towards non-English speakers. For our analysis, we are only going to focus on those apps that are for English speakers.\n",
    "\n",
    "To do that, we are going to create a function to filter out those apps that contain characters that are outside of the ASCII values of 0 to 127."
   ]
  },
  {
   "cell_type": "code",
   "execution_count": 9,
   "metadata": {},
   "outputs": [
    {
     "name": "stdout",
     "output_type": "stream",
     "text": [
      "True\n",
      "False\n",
      "False\n",
      "False\n"
     ]
    }
   ],
   "source": [
    "def english_or_not(string):\n",
    "    english = True\n",
    "    for character in string:\n",
    "        if 0 <= ord(character) <= 127:\n",
    "            english = True\n",
    "        else:\n",
    "            english = False\n",
    "            break\n",
    "    return english\n",
    "\n",
    "\n",
    "print(english_or_not('Instagram'))\n",
    "print(english_or_not('爱奇艺PPS -《欢乐颂2》电视剧热播'))\n",
    "print(english_or_not('Docs To Go™ Free Office Suite'))\n",
    "print(english_or_not('Instachat 😜'))"
   ]
  },
  {
   "cell_type": "markdown",
   "metadata": {},
   "source": [
    "From what we can see with the initial creation of this app, there are some apps that are in English but also have characters that are outside of the ASCII range of 0 to 127. This might cause issues because it could potentially be deleting out apps that are in English.\n",
    "\n",
    "To prevent this from happening, the function will be updated to see if there are at least three non-English characters in the app name before determining if the app needs to be removed from the dataset."
   ]
  },
  {
   "cell_type": "code",
   "execution_count": 10,
   "metadata": {},
   "outputs": [
    {
     "name": "stdout",
     "output_type": "stream",
     "text": [
      "True\n",
      "False\n",
      "True\n",
      "True\n"
     ]
    }
   ],
   "source": [
    "def english_or_not(string):\n",
    "    english = False\n",
    "    non_english_count = 0\n",
    "    for character in string:\n",
    "        if ord(character) > 127:\n",
    "            non_english_count += 1\n",
    "        \n",
    "    if non_english_count > 3:\n",
    "        english = False\n",
    "    else:\n",
    "        english = True\n",
    "    return english\n",
    "\n",
    "print(english_or_not('Instagram'))\n",
    "print(english_or_not('爱奇艺PPS -《欢乐颂2》电视剧热播'))\n",
    "print(english_or_not('Docs To Go™ Free Office Suite'))\n",
    "print(english_or_not('Instachat 😜'))"
   ]
  },
  {
   "cell_type": "markdown",
   "metadata": {},
   "source": [
    "Now that we have a better function to determine which apps are made for English speakers, we can go ahead and filter out those apps which are not for English speakers from both of our datasets.\n",
    "\n",
    "We will do this by creating a new list for each dataset, creating a function to filter through the rows for non-English apps, and then appending only those rows that are for English speakers."
   ]
  },
  {
   "cell_type": "code",
   "execution_count": 11,
   "metadata": {},
   "outputs": [
    {
     "name": "stdout",
     "output_type": "stream",
     "text": [
      "The length of the Android dataset before non-English apps are removed is: 9659\n",
      "The length of the Android dataset after non-English apps are removed is: 9614\n",
      "\n",
      "\n",
      "The length of the Apple dataset before non-English apps are removed is: 7197\n",
      "The length of the Apple dataset after non-English apps are removed is: 6183\n"
     ]
    }
   ],
   "source": [
    "android_apps_english = []\n",
    "apple_apps_english = []\n",
    "\n",
    "def english_clean(dataset,name_col_no, clean_dataset):\n",
    "    for row in dataset:\n",
    "        name = row[name_col_no]\n",
    "        if english_or_not(name):\n",
    "            clean_dataset.append(row)\n",
    "    return clean_dataset\n",
    "\n",
    "print('The length of the Android dataset before non-English apps are removed is:',len(android_clean))\n",
    "android_apps_english = english_clean(android_clean,0,android_apps_english)        \n",
    "print('The length of the Android dataset after non-English apps are removed is:', len(android_apps_english))\n",
    "print('\\n')\n",
    "print('The length of the Apple dataset before non-English apps are removed is:',len(apple_apps))\n",
    "apple_apps_english = english_clean(apple_apps,2,apple_apps_english)        \n",
    "print('The length of the Apple dataset after non-English apps are removed is:', len(apple_apps_english))"
   ]
  },
  {
   "cell_type": "markdown",
   "metadata": {},
   "source": [
    "## Focusing on only free apps\n",
    "\n",
    "Since the focus for this data analysis is free apps, we will now filter for only those apps that are free. To do this, we will create two new lists for the Apple and Android apps that have a price of 0 or type of Free."
   ]
  },
  {
   "cell_type": "code",
   "execution_count": 15,
   "metadata": {},
   "outputs": [
    {
     "name": "stdout",
     "output_type": "stream",
     "text": [
      "The length of the Android dataset before paid apps are removed is: 9614\n",
      "The length of the Android dataset after paid apps are removed is: 8864\n",
      "\n",
      "\n",
      "The length of the Apple dataset before paid apps are removed is: 6183\n",
      "The length of the Apple dataset after paid apps are removed is: 3222\n"
     ]
    }
   ],
   "source": [
    "android_free_apps = []\n",
    "apple_free_apps   = []\n",
    "\n",
    "\n",
    "def free_apps_only(dataset,price_col_no, free_dataset):\n",
    "    for row in dataset:\n",
    "        price = row[price_col_no]\n",
    "        if price == '0' or price == '0.0':\n",
    "            free_dataset.append(row)\n",
    "    return free_dataset    \n",
    "\n",
    "print('The length of the Android dataset before paid apps are removed is:',len(android_apps_english))\n",
    "android_free_apps = free_apps_only(android_apps_english,7,android_free_apps)        \n",
    "print('The length of the Android dataset after paid apps are removed is:', len(android_free_apps))\n",
    "print('\\n')\n",
    "print('The length of the Apple dataset before paid apps are removed is:',len(apple_apps_english))\n",
    "apple_free_apps = free_apps_only(apple_apps_english,5,apple_free_apps)        \n",
    "print('The length of the Apple dataset after paid apps are removed is:', len(apple_free_apps))"
   ]
  },
  {
   "cell_type": "markdown",
   "metadata": {},
   "source": [
    "## Diving into Analyzing Free Apps\n",
    "\n",
    "Now that we have the data sets to the information that we need, we will look further into which types of apps could be the most profitable.\n",
    "\n",
    "The goal after determining which type of app to build is:\n",
    "\n",
    "1. Develop a basic app and add it to the Google Play store.\n",
    "2. If the app has a good response, then the app will be developped further.\n",
    "3. In six months, if the app still appears to be profitable, then the app will be developed for iOS to be put onto the Apple App Store.\n",
    "\n",
    "The apps will need to be appealing to both markets to maximize profit, so the first analysis will focus on which genre of apps are the most popular by building a function to create frequency table with the percentages and another function to display those percentages."
   ]
  },
  {
   "cell_type": "code",
   "execution_count": 16,
   "metadata": {},
   "outputs": [],
   "source": [
    "def freq_table(dataset,index):\n",
    "    frequency_table = {}\n",
    "    percentage_table = {}\n",
    "    total_rows = 0\n",
    "    for row in dataset:\n",
    "        total_rows +=1\n",
    "        column = row[index]\n",
    "        if column in frequency_table:\n",
    "            frequency_table[column] += 1\n",
    "        else:\n",
    "            frequency_table[column] = 1\n",
    "    \n",
    "    for key in frequency_table:\n",
    "        percentage = (frequency_table[key]/total_rows) * 100\n",
    "        percentage_table[key] = percentage\n",
    "    \n",
    "    return percentage_table\n",
    "\n",
    "def display_table(dataset, index):\n",
    "    table = freq_table(dataset, index)\n",
    "    table_display = []\n",
    "    for key in table:\n",
    "        key_val_as_tuple = (table[key], key)\n",
    "        table_display.append(key_val_as_tuple)\n",
    "        \n",
    "    table_sorted = sorted(table_display, reverse = True)\n",
    "    for entry in table_sorted:\n",
    "        print(entry[1], ':', entry[0])"
   ]
  },
  {
   "cell_type": "markdown",
   "metadata": {},
   "source": [
    "Now we will take a look at the prime_genre column in the Apple apps data set to see which genres are the most popular."
   ]
  },
  {
   "cell_type": "code",
   "execution_count": 17,
   "metadata": {},
   "outputs": [
    {
     "name": "stdout",
     "output_type": "stream",
     "text": [
      "Games : 58.16263190564867\n",
      "Entertainment : 7.883302296710118\n",
      "Photo & Video : 4.9658597144630665\n",
      "Education : 3.662321539416512\n",
      "Social Networking : 3.2898820608317814\n",
      "Shopping : 2.60707635009311\n",
      "Utilities : 2.5139664804469275\n",
      "Sports : 2.1415270018621975\n",
      "Music : 2.0484171322160147\n",
      "Health & Fitness : 2.0173805090006205\n",
      "Productivity : 1.7380509000620732\n",
      "Lifestyle : 1.5828677839851024\n",
      "News : 1.3345747982619491\n",
      "Travel : 1.2414649286157666\n",
      "Finance : 1.1173184357541899\n",
      "Weather : 0.8690254500310366\n",
      "Food & Drink : 0.8069522036002483\n",
      "Reference : 0.5586592178770949\n",
      "Business : 0.5276225946617008\n",
      "Book : 0.4345127250155183\n",
      "Navigation : 0.186219739292365\n",
      "Medical : 0.186219739292365\n",
      "Catalogs : 0.12414649286157665\n"
     ]
    }
   ],
   "source": [
    "display_table(apple_free_apps,12)"
   ]
  },
  {
   "cell_type": "markdown",
   "metadata": {},
   "source": [
    "From what we can see in the above table, that apps that are based upon entertainment purposes are more popular than practical purposes with Games at 56.73% and Entertainment apps at 8.01% being the top two most popular apps that are free and made for English speakers. This does not imply that the amount of users is going to be highest among the entertainment apps vs. the practical apps.\n",
    "\n",
    "We will continue our analysis with the Android apps dataset. There are going to be two columns that we will look at in the Android apps dataset to determine the frequency: Category and Genre."
   ]
  },
  {
   "cell_type": "code",
   "execution_count": 18,
   "metadata": {},
   "outputs": [
    {
     "name": "stdout",
     "output_type": "stream",
     "text": [
      "FAMILY : 18.907942238267147\n",
      "GAME : 9.724729241877256\n",
      "TOOLS : 8.461191335740072\n",
      "BUSINESS : 4.591606498194946\n",
      "LIFESTYLE : 3.9034296028880866\n",
      "PRODUCTIVITY : 3.892148014440433\n",
      "FINANCE : 3.7003610108303246\n",
      "MEDICAL : 3.531137184115524\n",
      "SPORTS : 3.395758122743682\n",
      "PERSONALIZATION : 3.3167870036101084\n",
      "COMMUNICATION : 3.2378158844765346\n",
      "HEALTH_AND_FITNESS : 3.0798736462093865\n",
      "PHOTOGRAPHY : 2.944494584837545\n",
      "NEWS_AND_MAGAZINES : 2.7978339350180503\n",
      "SOCIAL : 2.6624548736462095\n",
      "TRAVEL_AND_LOCAL : 2.33528880866426\n",
      "SHOPPING : 2.2450361010830324\n",
      "BOOKS_AND_REFERENCE : 2.1435018050541514\n",
      "DATING : 1.861462093862816\n",
      "VIDEO_PLAYERS : 1.7937725631768955\n",
      "MAPS_AND_NAVIGATION : 1.3989169675090252\n",
      "FOOD_AND_DRINK : 1.2409747292418771\n",
      "EDUCATION : 1.1620036101083033\n",
      "ENTERTAINMENT : 0.9589350180505415\n",
      "LIBRARIES_AND_DEMO : 0.9363718411552346\n",
      "AUTO_AND_VEHICLES : 0.9250902527075812\n",
      "HOUSE_AND_HOME : 0.8235559566787004\n",
      "WEATHER : 0.8009927797833934\n",
      "EVENTS : 0.7107400722021661\n",
      "PARENTING : 0.6543321299638989\n",
      "ART_AND_DESIGN : 0.6430505415162455\n",
      "COMICS : 0.6204873646209386\n",
      "BEAUTY : 0.5979241877256317\n"
     ]
    }
   ],
   "source": [
    "display_table(android_free_apps,1)"
   ]
  },
  {
   "cell_type": "markdown",
   "metadata": {},
   "source": [
    "From what we can see in this table on the Category column that Family apps are at the top of the list with 18.9% with Games close behind at 9.71%. There seems to be more practical applications within the Android apps data set than the Apple apps data set. "
   ]
  },
  {
   "cell_type": "code",
   "execution_count": 19,
   "metadata": {},
   "outputs": [
    {
     "name": "stdout",
     "output_type": "stream",
     "text": [
      "Tools : 8.449909747292418\n",
      "Entertainment : 6.069494584837545\n",
      "Education : 5.347472924187725\n",
      "Business : 4.591606498194946\n",
      "Productivity : 3.892148014440433\n",
      "Lifestyle : 3.892148014440433\n",
      "Finance : 3.7003610108303246\n",
      "Medical : 3.531137184115524\n",
      "Sports : 3.463447653429603\n",
      "Personalization : 3.3167870036101084\n",
      "Communication : 3.2378158844765346\n",
      "Action : 3.1024368231046933\n",
      "Health & Fitness : 3.0798736462093865\n",
      "Photography : 2.944494584837545\n",
      "News & Magazines : 2.7978339350180503\n",
      "Social : 2.6624548736462095\n",
      "Travel & Local : 2.3240072202166067\n",
      "Shopping : 2.2450361010830324\n",
      "Books & Reference : 2.1435018050541514\n",
      "Simulation : 2.0419675090252705\n",
      "Dating : 1.861462093862816\n",
      "Arcade : 1.8501805054151623\n",
      "Video Players & Editors : 1.7712093862815883\n",
      "Casual : 1.7599277978339352\n",
      "Maps & Navigation : 1.3989169675090252\n",
      "Food & Drink : 1.2409747292418771\n",
      "Puzzle : 1.128158844765343\n",
      "Racing : 0.9927797833935018\n",
      "Role Playing : 0.9363718411552346\n",
      "Libraries & Demo : 0.9363718411552346\n",
      "Auto & Vehicles : 0.9250902527075812\n",
      "Strategy : 0.9138086642599278\n",
      "House & Home : 0.8235559566787004\n",
      "Weather : 0.8009927797833934\n",
      "Events : 0.7107400722021661\n",
      "Adventure : 0.6768953068592057\n",
      "Comics : 0.6092057761732852\n",
      "Beauty : 0.5979241877256317\n",
      "Art & Design : 0.5979241877256317\n",
      "Parenting : 0.4963898916967509\n",
      "Card : 0.45126353790613716\n",
      "Casino : 0.42870036101083037\n",
      "Trivia : 0.41741877256317694\n",
      "Educational;Education : 0.39485559566787\n",
      "Board : 0.3835740072202166\n",
      "Educational : 0.3722924187725632\n",
      "Education;Education : 0.33844765342960287\n",
      "Word : 0.2594765342960289\n",
      "Casual;Pretend Play : 0.236913357400722\n",
      "Music : 0.2030685920577617\n",
      "Racing;Action & Adventure : 0.16922382671480143\n",
      "Puzzle;Brain Games : 0.16922382671480143\n",
      "Entertainment;Music & Video : 0.16922382671480143\n",
      "Casual;Brain Games : 0.13537906137184114\n",
      "Casual;Action & Adventure : 0.13537906137184114\n",
      "Arcade;Action & Adventure : 0.12409747292418773\n",
      "Action;Action & Adventure : 0.10153429602888085\n",
      "Educational;Pretend Play : 0.09025270758122744\n",
      "Simulation;Action & Adventure : 0.078971119133574\n",
      "Parenting;Education : 0.078971119133574\n",
      "Entertainment;Brain Games : 0.078971119133574\n",
      "Board;Brain Games : 0.078971119133574\n",
      "Parenting;Music & Video : 0.06768953068592057\n",
      "Educational;Brain Games : 0.06768953068592057\n",
      "Casual;Creativity : 0.06768953068592057\n",
      "Art & Design;Creativity : 0.06768953068592057\n",
      "Education;Pretend Play : 0.056407942238267145\n",
      "Role Playing;Pretend Play : 0.04512635379061372\n",
      "Education;Creativity : 0.04512635379061372\n",
      "Role Playing;Action & Adventure : 0.033844765342960284\n",
      "Puzzle;Action & Adventure : 0.033844765342960284\n",
      "Entertainment;Creativity : 0.033844765342960284\n",
      "Entertainment;Action & Adventure : 0.033844765342960284\n",
      "Educational;Creativity : 0.033844765342960284\n",
      "Educational;Action & Adventure : 0.033844765342960284\n",
      "Education;Music & Video : 0.033844765342960284\n",
      "Education;Brain Games : 0.033844765342960284\n",
      "Education;Action & Adventure : 0.033844765342960284\n",
      "Adventure;Action & Adventure : 0.033844765342960284\n",
      "Video Players & Editors;Music & Video : 0.02256317689530686\n",
      "Sports;Action & Adventure : 0.02256317689530686\n",
      "Simulation;Pretend Play : 0.02256317689530686\n",
      "Puzzle;Creativity : 0.02256317689530686\n",
      "Music;Music & Video : 0.02256317689530686\n",
      "Entertainment;Pretend Play : 0.02256317689530686\n",
      "Casual;Education : 0.02256317689530686\n",
      "Board;Action & Adventure : 0.02256317689530686\n",
      "Video Players & Editors;Creativity : 0.01128158844765343\n",
      "Trivia;Education : 0.01128158844765343\n",
      "Travel & Local;Action & Adventure : 0.01128158844765343\n",
      "Tools;Education : 0.01128158844765343\n",
      "Strategy;Education : 0.01128158844765343\n",
      "Strategy;Creativity : 0.01128158844765343\n",
      "Strategy;Action & Adventure : 0.01128158844765343\n",
      "Simulation;Education : 0.01128158844765343\n",
      "Role Playing;Brain Games : 0.01128158844765343\n",
      "Racing;Pretend Play : 0.01128158844765343\n",
      "Puzzle;Education : 0.01128158844765343\n",
      "Parenting;Brain Games : 0.01128158844765343\n",
      "Music & Audio;Music & Video : 0.01128158844765343\n",
      "Lifestyle;Pretend Play : 0.01128158844765343\n",
      "Lifestyle;Education : 0.01128158844765343\n",
      "Health & Fitness;Education : 0.01128158844765343\n",
      "Health & Fitness;Action & Adventure : 0.01128158844765343\n",
      "Entertainment;Education : 0.01128158844765343\n",
      "Communication;Creativity : 0.01128158844765343\n",
      "Comics;Creativity : 0.01128158844765343\n",
      "Casual;Music & Video : 0.01128158844765343\n",
      "Card;Action & Adventure : 0.01128158844765343\n",
      "Books & Reference;Education : 0.01128158844765343\n",
      "Art & Design;Pretend Play : 0.01128158844765343\n",
      "Art & Design;Action & Adventure : 0.01128158844765343\n",
      "Arcade;Pretend Play : 0.01128158844765343\n",
      "Adventure;Education : 0.01128158844765343\n"
     ]
    }
   ],
   "source": [
    "display_table(android_free_apps, 9)"
   ]
  },
  {
   "cell_type": "markdown",
   "metadata": {},
   "source": [
    "From running the frequency table on the Genre column, we can see similar results to the Category column, where apps that are practical are a higher percentage than entertainment apps with Tools at 8.44% and Entertainment at 6.07%. The Genre column does have a wider range of different app types than the Category column, so for the purposes of our analysis, we will focus on the Category column rather than the Genre column.\n",
    "\n",
    "## Popular Apps by Genre in App Stores\n",
    "\n",
    "# Most popular Apple Apps\n",
    "\n",
    "Now we will take a look at which apps are the most popular by the number of users by calculating the average number of installs for each genre. In the Android dataset, this information is easily obtained from the Installs column, but this is more difficult in the Apple dataset. In the Apple dataset, we will calculate the average number of installs by using the total user ratings column (rating_count_tot column) and dividing that by the total count for the genre to get this amount."
   ]
  },
  {
   "cell_type": "code",
   "execution_count": 21,
   "metadata": {},
   "outputs": [
    {
     "name": "stdout",
     "output_type": "stream",
     "text": [
      "Productivity : 21028.410714285714\n",
      "Weather : 52279.892857142855\n",
      "Shopping : 26919.690476190477\n",
      "Reference : 74942.11111111111\n",
      "Finance : 31467.944444444445\n",
      "Music : 57326.530303030304\n",
      "Utilities : 18684.456790123455\n",
      "Travel : 28243.8\n",
      "Social Networking : 71548.34905660378\n",
      "Sports : 23008.898550724636\n",
      "Health & Fitness : 23298.015384615384\n",
      "Games : 22788.6696905016\n",
      "Food & Drink : 33333.92307692308\n",
      "News : 21248.023255813954\n",
      "Book : 39758.5\n",
      "Photo & Video : 28441.54375\n",
      "Entertainment : 14029.830708661417\n",
      "Business : 7491.117647058823\n",
      "Lifestyle : 16485.764705882353\n",
      "Education : 7003.983050847458\n",
      "Navigation : 86090.33333333333\n",
      "Medical : 612.0\n",
      "Catalogs : 4004.0\n"
     ]
    }
   ],
   "source": [
    "apple_freq_table = freq_table(apple_free_apps, 12)\n",
    "\n",
    "for key in apple_freq_table:\n",
    "    total = 0\n",
    "    len_genre = 0\n",
    "    for row in apple_free_apps:\n",
    "        if row[12] == key:\n",
    "            total += float(row[6])\n",
    "            len_genre +=1\n",
    "    average_user_installs = total/len_genre\n",
    "    print(key,\":\",average_user_installs) "
   ]
  },
  {
   "cell_type": "markdown",
   "metadata": {},
   "source": [
    "From what we can see here, Navigation apps have the highest amount of user ratings with Waze and Google maps having the highest counts:"
   ]
  },
  {
   "cell_type": "code",
   "execution_count": 26,
   "metadata": {},
   "outputs": [
    {
     "name": "stdout",
     "output_type": "stream",
     "text": [
      "Waze - GPS Navigation, Maps & Real-time Traffic : 345046\n",
      "Geocaching® : 12811\n",
      "ImmobilienScout24: Real Estate Search in Germany : 187\n",
      "Railway Route Search : 5\n",
      "CoPilot GPS – Car Navigation & Offline Maps : 3582\n",
      "Google Maps - Navigation & Transit : 154911\n"
     ]
    }
   ],
   "source": [
    "for app in apple_free_apps:\n",
    "    if app[12] == 'Navigation':\n",
    "        print(app[2],\":\",app[6])"
   ]
  },
  {
   "cell_type": "markdown",
   "metadata": {},
   "source": [
    "Even though Navigation apps do have the bulk of the user reviews, this would not suit our purposes for recommending building a free application with advertisements built into it since people use Navigation apps while driving or doing other activities. People would be more focused on obtaining directions for where they need to go rather than viewing advertisements. Also, these types of apps are quite complicated to build and would require resources that may not be within our reach.\n",
    "\n",
    "The second most popular app genre is reference at 74942 reviews."
   ]
  },
  {
   "cell_type": "code",
   "execution_count": 27,
   "metadata": {},
   "outputs": [
    {
     "name": "stdout",
     "output_type": "stream",
     "text": [
      "Bible : 985920\n",
      "Dictionary.com Dictionary & Thesaurus : 200047\n",
      "Dictionary.com Dictionary & Thesaurus for iPad : 54175\n",
      "Muslim Pro: Ramadan 2017 Prayer Times, Azan, Quran : 18418\n",
      "Merriam-Webster Dictionary : 16849\n",
      "Google Translate : 26786\n",
      "Night Sky : 12122\n",
      "WWDC : 762\n",
      "Jishokun-Japanese English Dictionary & Translator : 0\n",
      "教えて!goo : 0\n",
      "VPN Express : 14\n",
      "New Furniture Mods - Pocket Wiki & Game Tools for Minecraft PC Edition : 17588\n",
      "LUCKY BLOCK MOD ™ for Minecraft PC Edition - The Best Pocket Wiki & Mods Installer Tools : 4693\n",
      "Guides for Pokémon GO - Pokemon GO News and Cheats : 826\n",
      "Horror Maps for Minecraft PE - Download The Scariest Maps for Minecraft Pocket Edition (MCPE) Free : 718\n",
      "City Maps for Minecraft PE - The Best Maps for Minecraft Pocket Edition (MCPE) : 8535\n",
      "GUNS MODS for Minecraft PC Edition - Mods Tools : 1497\n",
      "Real Bike Traffic Rider Virtual Reality Glasses : 8\n"
     ]
    }
   ],
   "source": [
    "for app in apple_free_apps:\n",
    "    if app[12] == 'Reference':\n",
    "        print(app[2],\":\",app[6])"
   ]
  },
  {
   "cell_type": "markdown",
   "metadata": {},
   "source": [
    "The Bible app has the highest amount of user ratings at 985920 with the Dictionary.com Dictionary & Thesaurus app being second at 200047. Other applications in this genre are for apps that are reference applications for video games such as Pokemon Go and Minecraft.\n",
    "\n",
    "This might be a better genre to have targeted advertising placed within a free application since a person would use the application for reference and see the advertisement at the same time. Ideas for an app may include references or inside information on popular movies franchiese, TV Shows, video games, and book series. In addition to this, there does not seem to be too many reference apps linked to video games, so this may be an untapped niche that may be worth looking into further.\n",
    "\n",
    "Other popular apps such as Social Networking, Music, and Weather would not suit our purposes because of either pre-existing market dominance by Facebook, Pandora, or the Weather Channel.\n",
    "\n",
    "Next, we will take a look a Android apps.\n",
    "\n",
    "# Most popular Android Apps\n",
    "\n",
    "The Android dataset already has the total amount of installs within the dataset, but these values are put into separate bins without any sort of accurate install count."
   ]
  },
  {
   "cell_type": "code",
   "execution_count": 28,
   "metadata": {},
   "outputs": [
    {
     "name": "stdout",
     "output_type": "stream",
     "text": [
      "1,000,000+ : 15.726534296028879\n",
      "100,000+ : 11.552346570397113\n",
      "10,000,000+ : 10.548285198555957\n",
      "10,000+ : 10.198555956678701\n",
      "1,000+ : 8.393501805054152\n",
      "100+ : 6.915613718411552\n",
      "5,000,000+ : 6.825361010830325\n",
      "500,000+ : 5.561823104693141\n",
      "50,000+ : 4.7721119133574\n",
      "5,000+ : 4.512635379061372\n",
      "10+ : 3.5424187725631766\n",
      "500+ : 3.2490974729241873\n",
      "50,000,000+ : 2.3014440433213\n",
      "100,000,000+ : 2.1322202166064983\n",
      "50+ : 1.917870036101083\n",
      "5+ : 0.78971119133574\n",
      "1+ : 0.5076714801444043\n",
      "500,000,000+ : 0.2707581227436823\n",
      "1,000,000,000+ : 0.22563176895306858\n",
      "0+ : 0.04512635379061372\n",
      "0 : 0.01128158844765343\n"
     ]
    }
   ],
   "source": [
    "display_table(android_free_apps,5)"
   ]
  },
  {
   "cell_type": "markdown",
   "metadata": {},
   "source": [
    "For our analysis though, we do not need precise numbers to determine which apps are the most popular. We can use the data provided in the Installs column to give us an approximate number.\n",
    "\n",
    "However, we do need to remove all commas and plus signs from the data."
   ]
  },
  {
   "cell_type": "code",
   "execution_count": 33,
   "metadata": {},
   "outputs": [
    {
     "name": "stdout",
     "output_type": "stream",
     "text": [
      "ART_AND_DESIGN : 1986335.0877192982\n",
      "AUTO_AND_VEHICLES : 647317.8170731707\n",
      "BEAUTY : 513151.88679245283\n",
      "BOOKS_AND_REFERENCE : 8767811.894736841\n",
      "BUSINESS : 1712290.1474201474\n",
      "COMICS : 817657.2727272727\n",
      "COMMUNICATION : 38456119.167247385\n",
      "DATING : 854028.8303030303\n",
      "EDUCATION : 1833495.145631068\n",
      "ENTERTAINMENT : 11640705.88235294\n",
      "EVENTS : 253542.22222222222\n",
      "FINANCE : 1387692.475609756\n",
      "FOOD_AND_DRINK : 1924897.7363636363\n",
      "HEALTH_AND_FITNESS : 4188821.9853479853\n",
      "HOUSE_AND_HOME : 1331540.5616438356\n",
      "LIBRARIES_AND_DEMO : 638503.734939759\n",
      "LIFESTYLE : 1437816.2687861272\n",
      "GAME : 15588015.603248259\n",
      "FAMILY : 3695641.8198090694\n",
      "MEDICAL : 120550.61980830671\n",
      "SOCIAL : 23253652.127118643\n",
      "SHOPPING : 7036877.311557789\n",
      "PHOTOGRAPHY : 17840110.40229885\n",
      "SPORTS : 3638640.1428571427\n",
      "TRAVEL_AND_LOCAL : 13984077.710144928\n",
      "TOOLS : 10801391.298666667\n",
      "PERSONALIZATION : 5201482.6122448975\n",
      "PRODUCTIVITY : 16787331.344927534\n",
      "PARENTING : 542603.6206896552\n",
      "WEATHER : 5074486.197183099\n",
      "VIDEO_PLAYERS : 24727872.452830188\n",
      "NEWS_AND_MAGAZINES : 9549178.467741935\n",
      "MAPS_AND_NAVIGATION : 4056941.7741935486\n"
     ]
    }
   ],
   "source": [
    "import re\n",
    "\n",
    "android_freq_table = freq_table(android_free_apps,1)\n",
    "\n",
    "for key in android_freq_table:\n",
    "    total = 0\n",
    "    len_category = 0\n",
    "    for row in android_free_apps:\n",
    "        if row[1] == key:\n",
    "            installs = row[5]\n",
    "            installs = int(re.sub(r'[^0-9]', '', installs))\n",
    "            total += installs\n",
    "            len_category += 1\n",
    "    average_android_installs = total/len_category\n",
    "    print(key,\":\",average_android_installs)"
   ]
  },
  {
   "cell_type": "markdown",
   "metadata": {},
   "source": [
    "From looking at this output, communication apps have on average the most installations at 38,456,119. This is because major social networking messaging apps dominate this genre for example WhatsApp, Skype, Messenger, and Google Duo."
   ]
  },
  {
   "cell_type": "code",
   "execution_count": 35,
   "metadata": {},
   "outputs": [
    {
     "name": "stdout",
     "output_type": "stream",
     "text": [
      "WhatsApp Messenger : 1000000000\n",
      "imo beta free calls and text : 100000000\n",
      "Android Messages : 100000000\n",
      "Google Duo - High Quality Video Calls : 500000000\n",
      "Messenger – Text and Video Chat for Free : 1000000000\n",
      "imo free video calls and chat : 500000000\n",
      "Skype - free IM & video calls : 1000000000\n",
      "Who : 100000000\n",
      "GO SMS Pro - Messenger, Free Themes, Emoji : 100000000\n",
      "LINE: Free Calls & Messages : 500000000\n",
      "Google Chrome: Fast & Secure : 1000000000\n",
      "Firefox Browser fast & private : 100000000\n",
      "UC Browser - Fast Download Private & Secure : 500000000\n",
      "Gmail : 1000000000\n",
      "Hangouts : 1000000000\n",
      "Messenger Lite: Free Calls & Messages : 100000000\n",
      "Kik : 100000000\n",
      "KakaoTalk: Free Calls & Text : 100000000\n",
      "Opera Mini - fast web browser : 100000000\n",
      "Opera Browser: Fast and Secure : 100000000\n",
      "Telegram : 100000000\n",
      "Truecaller: Caller ID, SMS spam blocking & Dialer : 100000000\n",
      "UC Browser Mini -Tiny Fast Private & Secure : 100000000\n",
      "Viber Messenger : 500000000\n",
      "WeChat : 100000000\n",
      "Yahoo Mail – Stay Organized : 100000000\n",
      "BBM - Free Calls & Messages : 100000000\n"
     ]
    }
   ],
   "source": [
    "for app in android_free_apps:\n",
    "    installs = app[5]\n",
    "    installs = int(re.sub(r'[^0-9]', '', installs))\n",
    "    if app[1] == 'COMMUNICATION' and installs >= 100000000:\n",
    "        print(app[0],\":\",installs)"
   ]
  },
  {
   "cell_type": "markdown",
   "metadata": {},
   "source": [
    "From reviewing this output, a messenger application would not best suit our needs since there is already market dominance in existence.\n",
    "\n",
    "Looking at our frequency table again, video players would also not be a good category due to market dominance by YouTube and Googe Play TV and Movies.\n",
    "\n",
    "Referring back to our analysis of the Apple apps, Books and Reference and News and Magazines are all equally popular with Books representing 8,767,811 installs and News with 9,549,178 installs.\n",
    "\n",
    "Let's take a deeper dive into the more popular applications in these genres."
   ]
  },
  {
   "cell_type": "code",
   "execution_count": 37,
   "metadata": {},
   "outputs": [
    {
     "name": "stdout",
     "output_type": "stream",
     "text": [
      "Fox News – Breaking News, Live Video & News Alerts : 10,000,000+\n",
      "NEW - Read Newspaper, News 24h : 10,000,000+\n",
      "BaBe + - Indonesian News : 1,000,000+\n",
      "daily News : 1,000,000+\n",
      "BBC News : 10,000,000+\n",
      "Free TV Shows App:News, TV Series, Episode, Movies : 1,000,000+\n",
      "News24 : 1,000,000+\n",
      "Le Monde, the continuous news : 5,000,000+\n",
      "Wireless news : 1,000,000+\n",
      "CNN Breaking US & World News : 10,000,000+\n",
      "Gnoche entertainment news · sports news is also free : 5,000,000+\n",
      "BaBe - Read News : 10,000,000+\n",
      "Nigeria News NAIJ.com : 1,000,000+\n",
      "detikcom - Latest & Most Complete News : 10,000,000+\n",
      "Dailyhunt (Newshunt) - Latest News, Viral Videos : 50,000,000+\n",
      "BaBe Lite - Read Quota Saving News : 1,000,000+\n",
      "ARY NEWS URDU : 500,000+\n",
      "Bengali Newspaper - The first L. : 1,000,000+\n",
      "Read- Latest News, Information, Gossip and Politics : 10,000,000+\n",
      "Reddit: Social News, Trending Memes & Funny Videos : 10,000,000+\n",
      "BBC Persian | BBC Farsi News : 100,000+\n",
      "Opera News - Trending news and videos : 10,000,000+\n",
      "Topbuzz: Breaking News, Videos & Funny GIFs : 10,000,000+\n",
      "Twitter : 500,000,000+\n",
      "Pulse Nabd - World News, Urgent : 10,000,000+\n",
      "Asahi Shimbun Digital : 500,000+\n",
      "Breaking News, Local news, Attacks and Alerts Free : 500,000+\n",
      "WE : 1,000,000+\n",
      "Sky News : 1,000,000+\n",
      "Microsoft News : 1,000,000+\n",
      "Onet - news, weather, sport : 1,000,000+\n",
      "Vietnam Today - Read online newspapers, the hottest news 24h : 5,000,000+\n",
      "Apple Daily Apple News : 5,000,000+\n",
      "The Report, Fox, Breitbart - Conservative News : 50,000+\n",
      "Tencent News : 1,000,000+\n",
      "ARY NEWS : 1,000,000+\n",
      "Kurio - Read the Latest News : 1,000,000+\n",
      "Daily Mail Online : 5,000,000+\n",
      "Loop - Caribbean Local News : 1,000,000+\n",
      "AD - News, Sports, Region & Entertainment : 1,000,000+\n",
      "Podcast Addict : 5,000,000+\n",
      "Podcast Republic - Podcast Player & Radio Player : 1,000,000+\n",
      "Spreaker Podcast Radio : 500,000+\n",
      "BeyondPod Podcast Manager : 1,000,000+\n",
      "Dezeen Magazine RSS Reader : 10,000+\n",
      "issuu - Read Magazines, Catalogs, Newspapers. : 1,000,000+\n",
      "BuzzFeed: News, Tasty, Quizzes : 5,000,000+\n",
      "Fast News : 1,000,000+\n",
      "LA Times: Your California News : 100,000+\n",
      "The Washington Post Classic : 1,000,000+\n",
      "Chicago Tribune : 100,000+\n",
      "USA TODAY : 5,000,000+\n",
      "World Newspapers : 1,000,000+\n",
      "The Wall Street Journal: Business & Market News : 1,000,000+\n",
      "Financial Times : 1,000,000+\n",
      "The Guardian : 5,000,000+\n",
      "NYTimes - Latest News : 10,000,000+\n",
      "Digg : 100,000+\n",
      "News360: Personalized News : 1,000,000+\n",
      "RT News (Russia Today) : 1,000,000+\n",
      "NPR News : 1,000,000+\n",
      "Reuters News : 1,000,000+\n",
      "Bloomberg: Market & Financial News : 10,000,000+\n",
      "Haystack TV: Local & World News - Free : 100,000+\n",
      "ABC News - US & World News : 1,000,000+\n",
      "NBC News : 5,000,000+\n",
      "Sync for reddit : 500,000+\n",
      "AP Mobile - Breaking News : 1,000,000+\n",
      "HuffPost - News : 1,000,000+\n",
      "News Republic : 10,000,000+\n",
      "Newsroom: News Worth Sharing : 10,000,000+\n",
      "SmartNews: Breaking News Headlines : 10,000,000+\n",
      "Updates for Samsung - Android Update Versions : 10,000,000+\n",
      "AC - Tips & News for Android™ : 1,000,000+\n",
      "CBS News : 1,000,000+\n",
      "NPR One : 1,000,000+\n",
      "JailBase - Arrests + Mugshots : 1,000,000+\n",
      "Pocket : 10,000,000+\n",
      "AOL - News, Mail & Video : 5,000,000+\n",
      "BaconReader for Reddit : 1,000,000+\n",
      "Flipboard: News For Our Time : 500,000,000+\n",
      "E! News : 1,000,000+\n",
      "M+ : 10,000+\n",
      "AD - Nieuws, Sport, Regio & Entertainment : 1,000,000+\n",
      "AF Link : 10,000+\n",
      "Ariana News AF : 5,000+\n",
      "Rоhi.af : 1,000+\n",
      "AI Today : Artificial Intelligence News & AI 101 : 100+\n",
      "AJ+ Beta : 1,000+\n",
      "Aj. Vallbona : 10+\n",
      "Aj Di Awaaz : 500+\n",
      "AL.com : 50,000+\n",
      "Al Jazeera English : 1,000,000+\n",
      "Al Mayadeen : 500,000+\n",
      "Coast To Coast AM Insider : 100,000+\n",
      "DWWW 774 Ultimate AM Radio : 10,000+\n",
      "AP App for Android™ : 10,000+\n",
      "AS - Diario online deportivo. Fútbol, motor y más : 50+\n",
      "Australia Newspapers - AU News Apps : 1,000+\n",
      "news.com.au : 100+\n",
      "Mali 7 - Actualités au Mali : 50,000+\n",
      "AW TeamUp : 500+\n",
      "AW Reader: news & apps [Dutch] : 100,000+\n",
      "Handbreit by a.w.niemeyer : 1,000+\n",
      "News.aw : 10+\n",
      "AW - Le News di AndroidWorld : 100,000+\n",
      "Cafe.ba : 10,000+\n",
      "058.ba : 100+\n",
      "Klix.ba : 100,000+\n",
      "BD Online News : 1,000+\n",
      "BD Internet Package Activator : 100+\n",
      "BG Sports News : 1,000+\n",
      "Dete.bg : 100+\n",
      "Top Novini BG : 100+\n",
      "Stolica.bg : 50+\n",
      "N+ News Bulgaria : 50+\n",
      "BI News : 1,000+\n",
      "BK Manager : 5,000+\n",
      "RTVBN : 50,000+\n",
      "bq magazine : 50+\n",
      "Vidroid.com.br : 5,000+\n",
      "Revista BS : 100+\n",
      "Kiosko BS : 1,000+\n",
      "BT App : 1,000+\n",
      "B.T. : 100,000+\n",
      "B.Z. Live-Ticker : 10,000+\n",
      "BZ Berner Zeitung E-Paper : 1,000+\n",
      "BZ-Smart : 10,000+\n",
      "Berner Zeitung : 50,000+\n",
      "bz Basellandschaftliche News : 1,000+\n",
      "BZ Langenthaler Tagblatt E-Paper : 10+\n",
      "Badische Zeitung : 10,000+\n",
      "bz Baselland E-Paper : 5,000+\n",
      "BZ-Digital : 100+\n",
      "BZ Berner Oberländer : 1,000+\n",
      "bz Basel E-Paper : 5,000+\n",
      "bz Basel News : 1,000+\n",
      "PRIMATURE.CD : 100+\n",
      "INTERKINOIS.CD : 5+\n",
      "STADE.CD : 5+\n",
      "OBJECTIFINFOS.CD : 50+\n",
      "CE HPJM 69 : 50+\n",
      "CG Creative Sets: 2D/3D Artist : 10,000+\n",
      "CG Daily News : 10,000+\n",
      "CG Freelancer : 1,000+\n",
      "CG Vidhansabha Chunav 2018 : 100+\n",
      "Naidunia: MP News & CG News : 100,000+\n",
      "Bhuiyan Land Records Chhattisgarh (CG) : 5,000+\n",
      "20 minutes (CH) : 1,000,000+\n",
      "CH info : 5,000+\n",
      "20 Minuten (CH) : 1,000,000+\n",
      "swissinfo.ch : 50,000+\n",
      "Startupticker.ch News, Events : 100+\n",
      "CI On The Go : 100+\n",
      "Courier Journal : 10,000+\n",
      "Feeder.co : 5,000+\n",
      "CQ : 1,000+\n",
      "Roll Call News : 5,000+\n",
      "CT Prepares : 1,000+\n",
      "CW TV : 50,000+\n",
      "News 8 San Diego : 50,000+\n",
      "Cy-Ranch : 500+\n",
      "NOMISMA.com.cy by FMW : 100+\n",
      "Capitalnews.com.cy : 10+\n",
      "StudentLife.com.cy : 100+\n",
      "Novinky.cz : 100,000+\n",
      "DB Welt - Die Zeitung der DB : 10,000+\n",
      "FOX 5 DC : 100,000+\n",
      "McClatchy DC Bureau : 5,000+\n",
      "México City D.F News : 100+\n",
      "DG TV : 100+\n",
      "DH News : 10,000+\n",
      "DM Magazine : 10+\n",
      "DN : 10,000+\n",
      "DN eAvis : 10,000+\n",
      "DN Sync : 1,000+\n",
      "DN Reader : 100+\n",
      "e-DN - den digitala tidningen från Dagens Nyheter : 50,000+\n",
      "Dagens Nyheter : 100,000+\n",
      "DN.VR : 5,000+\n",
      "DN - Diário de Notícias : 100,000+\n",
      "DN Radio FM : 10+\n",
      "Sverige Tidningar : 50,000+\n",
      "Svenska Dagbladet : 100,000+\n",
      "Sweden Newspapers : 0+\n",
      "dt.se : 10,000+\n",
      "DW - Breaking World News : 1,000,000+\n",
      "DW Amharic by AudioNow Digital : 10,000+\n",
      "News: DW Español : 1,000+\n",
      "DW : 10,000+\n",
      "DW Arabic By dw-arab.com : 50,000+\n",
      "DW Espanol : 100+\n",
      "News :DW Bangali : 10+\n",
      "News: DW Hausa : 1,000+\n",
      "News: RFI Hausa : 1,000+\n",
      "Hausa Radio : 100,000+\n",
      "Swahili Radio : 10,000+\n",
      "dz NEWS Algerie : 100,000+\n",
      "JNews DZ - Algerian Newspapers : 10,000+\n",
      "dz press : 1,000+\n",
      "Ei Samay - Bengali News Paper : 1,000,000+\n",
      "Aaj Bangla: ei samay er khobor : 1,000+\n",
      "Kolkata News:Anandbazar Patrika,ei samay&AllRating : 100+\n",
      "Ei Somoy & Dainik Sangbad & Statesman (PDF) : 100+\n",
      "EJ.by : 500+\n",
      "EJ Insight : 1,000+\n",
      "El Nuevo Día : 500,000+\n",
      "EL NORTE : 100,000+\n",
      "El Nueve : 50,000+\n",
      "FRANCE 24 : 5,000,000+\n",
      "NewsDog - Latest News, Breaking News, Local News : 10,000,000+\n",
      "Economic Times : Market News : 5,000,000+\n",
      "ET Telecom from Economic Times : 10,000+\n",
      "Economic Times : Market News Go Edition : 5,000+\n",
      "Google News : 1,000,000,000+\n",
      "News by The Times of India Newspaper - Latest News : 10,000,000+\n",
      "Doorstep EU : 1,000+\n",
      "Lazionews.eu : 1,000+\n",
      "EU Life Explorer : 50+\n",
      "EU-Schwerbehinderung : 100+\n",
      "ew-Magazin : 100+\n",
      "News 5 Cleveland : 100,000+\n",
      "The List : 10,000+\n",
      "ABC15 Arizona : 100,000+\n",
      "NATIVE ENTERTAINMENT MAGAZINE - ISSUE # 1 : 10+\n",
      "KMTV 3 News Now : 10,000+\n",
      "TMJ4.com - WTMJ-TV Milwaukee : 50,000+\n",
      "WPTV 5 West Palm Beach : 100,000+\n",
      "WKBW 7 Eyewitness News : 50,000+\n",
      "Barcelona FC Noticias Live : 500+\n",
      "Noticias FC Barcelona : 100+\n",
      "Latest Barcelona News 24h : 10,000+\n",
      "FD e-paper : 10,000+\n",
      "Santa Fe New Mexican e-Edition : 1,000+\n",
      "Results for FL Lottery : 10,000+\n",
      "Florida Lottery Results : 100,000+\n",
      "News-Journal-Daytona Beach, FL : 5,000+\n",
      "Ocala Star Banner, FL : 5,000+\n",
      "Lotto Results - Mega Millions Powerball Lottery US : 1,000,000+\n",
      "WFLA News Channel 8 - Tampa FL : 10,000+\n",
      "The Ledger - Lakeland, Florida : 5,000+\n",
      "Florida Today : 10,000+\n",
      "WSVN - 7 News Miami : 100,000+\n",
      "Podcast App: Free & Offline Podcasts by Player FM : 1,000,000+\n",
      "Fresh News : 100,000+\n",
      "The FP Shield : 10+\n",
      "Miss FQ : 10+\n",
      "News Minecraft.fr : 100,000+\n"
     ]
    }
   ],
   "source": [
    "for app in android_free_apps:\n",
    "    if app[1] == 'NEWS_AND_MAGAZINES':\n",
    "        print(app[0],\":\",app[5])"
   ]
  },
  {
   "cell_type": "markdown",
   "metadata": {},
   "source": [
    "From what we can see from this frequency table, the majority of the applications are specific for regions, but there are some entertainment news apps in this list as well, which may be applicable to the idea of having an app that is related to a movie franchise, book, or video game.\n",
    "\n",
    "Let's take a look at the Book and Reference category."
   ]
  },
  {
   "cell_type": "code",
   "execution_count": 42,
   "metadata": {},
   "outputs": [
    {
     "name": "stdout",
     "output_type": "stream",
     "text": [
      "E-Book Read - Read Book for free : 50000\n",
      "Download free book with green book : 100000\n",
      "Wikipedia : 10000000\n",
      "Cool Reader : 10000000\n",
      "Free Panda Radio Music : 100000\n",
      "Book store : 1000000\n",
      "FBReader: Favorite Book Reader : 10000000\n",
      "English Grammar Complete Handbook : 500000\n",
      "Free Books - Spirit Fanfiction and Stories : 1000000\n",
      "Google Play Books : 1000000000\n",
      "AlReader -any text book reader : 5000000\n",
      "Offline English Dictionary : 100000\n",
      "Offline: English to Tagalog Dictionary : 500000\n",
      "FamilySearch Tree : 1000000\n",
      "Cloud of Books : 1000000\n",
      "Recipes of Prophetic Medicine for free : 500000\n",
      "ReadEra – free ebook reader : 1000000\n",
      "Anonymous caller detection : 10000\n",
      "Ebook Reader : 5000000\n",
      "Litnet - E-books : 100000\n",
      "Read books online : 5000000\n",
      "English to Urdu Dictionary : 500000\n",
      "eBoox: book reader fb2 epub zip : 1000000\n",
      "English Persian Dictionary : 500000\n",
      "Flybook : 500000\n",
      "All Maths Formulas : 1000000\n",
      "Ancestry : 5000000\n",
      "HTC Help : 10000000\n",
      "English translation from Bengali : 100000\n",
      "Pdf Book Download - Read Pdf Book : 100000\n",
      "Free Book Reader : 100000\n",
      "eBoox new: Reader for fb2 epub zip books : 50000\n",
      "Only 30 days in English, the guideline is guaranteed : 500000\n",
      "Moon+ Reader : 10000000\n",
      "SH-02J Owner's Manual (Android 8.0) : 50000\n",
      "English-Myanmar Dictionary : 1000000\n",
      "Golden Dictionary (EN-AR) : 1000000\n",
      "All Language Translator Free : 1000000\n",
      "Azpen eReader : 500000\n",
      "URBANO V 02 instruction manual : 100000\n",
      "Bible : 100000000\n",
      "C Programs and Reference : 50000\n",
      "C Offline Tutorial : 1000\n",
      "C Programs Handbook : 50000\n",
      "Amazon Kindle : 100000000\n",
      "Aab e Hayat Full Novel : 100000\n",
      "Aldiko Book Reader : 10000000\n",
      "Google I/O 2018 : 500000\n",
      "R Language Reference Guide : 10000\n",
      "Learn R Programming Full : 5000\n",
      "R Programing Offline Tutorial : 1000\n",
      "Guide for R Programming : 5\n",
      "Learn R Programming : 10\n",
      "R Quick Reference Big Data : 1000\n",
      "V Made : 100000\n",
      "Wattpad 📖 Free Books : 100000000\n",
      "Dictionary - WordWeb : 5000000\n",
      "Guide (for X-MEN) : 100000\n",
      "AC Air condition Troubleshoot,Repair,Maintenance : 5000\n",
      "AE Bulletins : 1000\n",
      "Ae Allah na Dai (Rasa) : 10000\n",
      "50000 Free eBooks & Free AudioBooks : 5000000\n",
      "Ag PhD Field Guide : 10000\n",
      "Ag PhD Deficiencies : 10000\n",
      "Ag PhD Planting Population Calculator : 1000\n",
      "Ag PhD Soybean Diseases : 1000\n",
      "Fertilizer Removal By Crop : 50000\n",
      "A-J Media Vault : 50\n",
      "Al-Quran (Free) : 10000000\n",
      "Al Quran (Tafsir & by Word) : 500000\n",
      "Al Quran Indonesia : 10000000\n",
      "Al'Quran Bahasa Indonesia : 10000000\n",
      "Al Quran Al karim : 1000000\n",
      "Al-Muhaffiz : 50000\n",
      "Al Quran : EAlim - Translations & MP3 Offline : 5000000\n",
      "Al-Quran 30 Juz free copies : 500000\n",
      "Koran Read &MP3 30 Juz Offline : 1000000\n",
      "Hafizi Quran 15 lines per page : 1000000\n",
      "Quran for Android : 10000000\n",
      "Surah Al-Waqiah : 100000\n",
      "Hisnul Al Muslim - Hisn Invocations & Adhkaar : 100000\n",
      "Satellite AR : 1000000\n",
      "Audiobooks from Audible : 100000000\n",
      "Kinot & Eichah for Tisha B'Av : 10000\n",
      "AW Tozer Devotionals - Daily : 5000\n",
      "Tozer Devotional -Series 1 : 1000\n",
      "The Pursuit of God : 1000\n",
      "AY Sing : 5000\n",
      "Ay Hasnain k Nana Milad Naat : 10000\n",
      "Ay Mohabbat Teri Khatir Novel : 10000\n",
      "Arizona Statutes, ARS (AZ Law) : 1000\n",
      "Oxford A-Z of English Usage : 1000000\n",
      "BD Fishpedia : 1000\n",
      "BD All Sim Offer : 10000\n",
      "Youboox - Livres, BD et magazines : 500000\n",
      "B&H Kids AR : 10000\n",
      "B y H Niños ES : 5000\n",
      "Dictionary.com: Find Definitions for English Words : 10000000\n",
      "English Dictionary - Offline : 10000000\n",
      "Bible KJV : 5000000\n",
      "Borneo Bible, BM Bible : 10000\n",
      "MOD Black for BM : 100\n",
      "BM Box : 1000\n",
      "Anime Mod for BM : 100\n",
      "NOOK: Read eBooks & Magazines : 10000000\n",
      "NOOK Audiobooks : 500000\n",
      "NOOK App for NOOK Devices : 500000\n",
      "Browsery by Barnes & Noble : 5000\n",
      "bp e-store : 1000\n",
      "Brilliant Quotes: Life, Love, Family & Motivation : 1000000\n",
      "BR Ambedkar Biography & Quotes : 10000\n",
      "BU Alsace : 100\n",
      "Catholic La Bu Zo Kam : 500\n",
      "Khrifa Hla Bu (Solfa) : 10\n",
      "Kristian Hla Bu : 10000\n",
      "SA HLA BU : 1000\n",
      "Learn SAP BW : 500\n",
      "Learn SAP BW on HANA : 500\n",
      "CA Laws 2018 (California Laws and Codes) : 5000\n",
      "Bootable Methods(USB-CD-DVD) : 10000\n",
      "cloudLibrary : 100000\n",
      "SDA Collegiate Quarterly : 500\n",
      "Sabbath School : 100000\n",
      "Cypress College Library : 100\n",
      "Stats Royale for Clash Royale : 1000000\n",
      "GATE 21 years CS Papers(2011-2018 Solved) : 50\n",
      "Learn CT Scan Of Head : 5000\n",
      "Easy Cv maker 2018 : 10000\n",
      "How to Write CV : 100000\n",
      "CW Nuclear : 1000\n",
      "CY Spray nozzle : 10\n",
      "BibleRead En Cy Zh Yue : 5\n",
      "CZ-Help : 5\n",
      "Modlitební knížka CZ : 500\n",
      "Guide for DB Xenoverse : 10000\n",
      "Guide for DB Xenoverse 2 : 10000\n",
      "Guide for IMS DB : 10\n",
      "DC HSEMA : 5000\n",
      "DC Public Library : 1000\n",
      "Painting Lulu DC Super Friends : 1000\n",
      "Dictionary : 10000000\n",
      "Fix Error Google Playstore : 1000\n",
      "D. H. Lawrence Poems FREE : 1000\n",
      "Bilingual Dictionary Audio App : 5000\n",
      "DM Screen : 10000\n",
      "wikiHow: how to do anything : 1000000\n",
      "Dr. Doug's Tips : 1000\n",
      "Bible du Semeur-BDS (French) : 50000\n",
      "La citadelle du musulman : 50000\n",
      "DV 2019 Entry Guide : 10000\n",
      "DV 2019 - EDV Photo & Form : 50000\n",
      "DV 2018 Winners Guide : 1000\n",
      "EB Annual Meetings : 1000\n",
      "EC - AP & Telangana : 5000\n",
      "TN Patta Citta & EC : 10000\n",
      "AP Stamps and Registration : 10000\n",
      "CompactiMa EC pH Calibration : 100\n",
      "EGW Writings 2 : 100000\n",
      "EGW Writings : 1000000\n",
      "Bible with EGW Comments : 100000\n",
      "My Little Pony AR Guide : 1000000\n",
      "SDA Sabbath School Quarterly : 500000\n",
      "Duaa Ek Ibaadat : 5000\n",
      "Spanish English Translator : 10000000\n",
      "Dictionary - Merriam-Webster : 10000000\n",
      "JW Library : 10000000\n",
      "Oxford Dictionary of English : Free : 10000000\n",
      "English Hindi Dictionary : 10000000\n",
      "English to Hindi Dictionary : 5000000\n",
      "EP Research Service : 1000\n",
      "Hymnes et Louanges : 100000\n",
      "EU Charter : 1000\n",
      "EU Data Protection : 1000\n",
      "EU IP Codes : 100\n",
      "EW PDF : 5\n",
      "BakaReader EX : 100000\n",
      "EZ Quran : 50000\n",
      "FA Part 1 & 2 Past Papers Solved Free – Offline : 5000\n",
      "La Fe de Jesus : 1000\n",
      "La Fe de Jesús : 500\n",
      "Le Fe de Jesus : 500\n",
      "Florida - Pocket Brainbook : 1000\n",
      "Florida Statutes (FL Code) : 1000\n",
      "English To Shona Dictionary : 10000\n",
      "Greek Bible FP (Audio) : 1000\n",
      "Golden Dictionary (FR-AR) : 500000\n",
      "Fanfic-FR : 5000\n",
      "Bulgarian French Dictionary Fr : 10000\n",
      "Chemin (fr) : 1000\n",
      "The SCP Foundation DB fr nn5n : 1000\n"
     ]
    }
   ],
   "source": [
    "for app in android_free_apps:\n",
    "    installs = app[5]\n",
    "    installs = int(re.sub(r'[^0-9]', '', installs))\n",
    "    if app[1] == 'BOOKS_AND_REFERENCE':\n",
    "        print(app[0],\":\",installs)"
   ]
  },
  {
   "cell_type": "markdown",
   "metadata": {},
   "source": [
    "From this frequency table, we can see that there are a lot of apps that are either reference books for programming languages, books like the Bible or Quran and eReaders.\n",
    "\n",
    "However, there are applications such as Guide (for X-MEN), Painting Lulu DC Super Friends, and My Little Pony AR Guide that appear to be guides for popluar comic and cartoon shows, which shows promise that creating an app based around a movie franchise, book, video game, or even a TV show might be the best type of an application to develop. These applications can be built with special features like images, quotes, behind the scenes, or even a chat application within the app so people can chat about their favorite movie, video game, book, or TV show.\n",
    "\n",
    "## Conclusions\n",
    "\n",
    "In this project, we analyzed app data from both the Apple App Store and Google Android App store with the end goal of identifying which types of free apps would be the most profitable in both markets.\n",
    "\n",
    "We concluded that developing an app that is based upon a popular movie franchise, video game, book, or TV show could be profitable in both markets. The app can be built upon existing libraries to make development and deployment to the Google Play or Apple Apps store much quicker. The app can feature things such as images, quotes, behind the sceans, or chat applications, etc."
   ]
  }
 ],
 "metadata": {
  "kernelspec": {
   "display_name": "Python 3",
   "language": "python",
   "name": "python3"
  },
  "language_info": {
   "codemirror_mode": {
    "name": "ipython",
    "version": 3
   },
   "file_extension": ".py",
   "mimetype": "text/x-python",
   "name": "python",
   "nbconvert_exporter": "python",
   "pygments_lexer": "ipython3",
   "version": "3.7.3"
  }
 },
 "nbformat": 4,
 "nbformat_minor": 2
}
